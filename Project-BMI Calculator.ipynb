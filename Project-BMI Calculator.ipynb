{
 "cells": [
  {
   "cell_type": "markdown",
   "id": "f65d0b2e",
   "metadata": {},
   "source": [
    "# BMI Calculator"
   ]
  },
  {
   "cell_type": "code",
   "execution_count": 23,
   "id": "4774fa6f",
   "metadata": {
    "scrolled": true
   },
   "outputs": [
    {
     "name": "stdout",
     "output_type": "stream",
     "text": [
      "Enter your name: Christian\n",
      "Enter your weight in pounds: 115\n",
      "Enter your height in inches: 68\n",
      "17.48378027681661\n",
      "Christian, you are underweight. Perhaps you should eat more.\n"
     ]
    }
   ],
   "source": [
    "name = input('Enter your name: ')\n",
    "\n",
    "weight = int(input('Enter your weight in pounds: '))\n",
    "\n",
    "height = int(input('Enter your height in inches: '))\n",
    "\n",
    "BMI = (weight * 703) / (height * height)\n",
    "\n",
    "print(BMI)\n",
    "\n",
    "if BMI >= 0:\n",
    "    if(BMI < 18.5):\n",
    "        print(name + ', you are underweight. Perhaps you should eat more.')\n",
    "    elif (BMI <= 24.9):\n",
    "        print(name + ', you are normal weight. Keep it up.')\n",
    "    elif (BMI <= 29.9):\n",
    "        print(name + ', you are overweight. Perhaps you should eat a salad.')\n",
    "    elif(BMI <= 34.9):\n",
    "        print(name + ', you are obese. You should start a diet.')\n",
    "    elif(BMI <= 39.9):\n",
    "        print(name + ', you are severely obese. You should definitely see a nutritionist.')\n",
    "    else:\n",
    "        print(name + ', you are morbidly obese. The end is nigh')\n"
   ]
  },
  {
   "cell_type": "code",
   "execution_count": null,
   "id": "505e5b4c",
   "metadata": {},
   "outputs": [],
   "source": [
    "#Logic and formula:"
   ]
  },
  {
   "cell_type": "code",
   "execution_count": null,
   "id": "c042d43b",
   "metadata": {},
   "outputs": [],
   "source": [
    "#BMI = (weight * 703) / (height * height)"
   ]
  },
  {
   "cell_type": "code",
   "execution_count": null,
   "id": "82489bd7",
   "metadata": {},
   "outputs": [],
   "source": [
    "Under 18.5  \t  Underweight   \t  Minimal\n",
    "18.5 - 24.9 \t  Normal Weight \t  Minimal\n",
    "25 - 29.9   \t  Overweight    \t  Increased\n",
    "30 - 34.9   \t  Obese \t  High\n",
    "35 - 39.9   \t  Severely Obese    \t  Very High\n",
    "40 and over \t  Morbidly Obese    \t  Extremely High"
   ]
  }
 ],
 "metadata": {
  "kernelspec": {
   "display_name": "Python 3 (ipykernel)",
   "language": "python",
   "name": "python3"
  },
  "language_info": {
   "codemirror_mode": {
    "name": "ipython",
    "version": 3
   },
   "file_extension": ".py",
   "mimetype": "text/x-python",
   "name": "python",
   "nbconvert_exporter": "python",
   "pygments_lexer": "ipython3",
   "version": "3.10.9"
  }
 },
 "nbformat": 4,
 "nbformat_minor": 5
}
